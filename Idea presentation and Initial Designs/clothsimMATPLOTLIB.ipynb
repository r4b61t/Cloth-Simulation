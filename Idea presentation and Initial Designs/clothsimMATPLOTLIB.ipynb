{
 "cells": [
  {
   "cell_type": "code",
   "execution_count": 1,
   "id": "0bbd9c3e",
   "metadata": {},
   "outputs": [],
   "source": [
    "import matplotlib.pyplot as plt\n",
    "from matplotlib import animation\n",
    "from IPython.display import HTML"
   ]
  },
  {
   "cell_type": "code",
   "execution_count": 2,
   "id": "9aa09d2f",
   "metadata": {},
   "outputs": [],
   "source": [
    "import pymunk\n",
    "from pymunk.vec2d import Vec2d\n",
    "import pymunk.matplotlib_util"
   ]
  },
  {
   "cell_type": "code",
   "execution_count": 3,
   "id": "a3a6978f",
   "metadata": {},
   "outputs": [],
   "source": [
    "def setup_space():\n",
    "    space = pymunk.Space()\n",
    "    space.gravity = 0,-9800\n",
    "    space.damping = 0.99\n",
    "    return space"
   ]
  },
  {
   "cell_type": "code",
   "execution_count": 4,
   "id": "39edcd7c",
   "metadata": {},
   "outputs": [],
   "source": [
    "top, left = (1500,500)\n",
    "length = 100\n",
    "n,m =5,7\n",
    "def cloth(space):\n",
    "    mass = 1\n",
    "    radius = 25\n",
    "    for y in range(top-length*(n-1),top+1,length):\n",
    "        for x in range(left,left+1+length*(m-1),length):\n",
    "            moment = pymunk.moment_for_circle(mass, 0, radius, (0,0))\n",
    "            body = pymunk.Body(mass, moment)\n",
    "            body.position = x, y\n",
    "            body.start_position = Vec2d(*body.position)\n",
    "            shape = pymunk.Circle(body, radius)\n",
    "            shape.filter = pymunk.ShapeFilter(group=1)\n",
    "            space.add(body, shape)\n",
    "    for i in range(len(space.shapes)):\n",
    "        if i%m !=m-1:\n",
    "            spring = pymunk.DampedSpring(space.bodies[i+1], space.bodies[i], (0,0), (0,0),length, 10000,5000)\n",
    "            spring.filter = pymunk.ShapeFilter(group=1)\n",
    "            space.add(spring)\n",
    "        if i > m-1:\n",
    "            spring = pymunk.DampedSpring(space.bodies[i-m], space.bodies[i], (0,0), (0,0),length, 10000,5000)\n",
    "            spring.filter = pymunk.ShapeFilter(group=1)\n",
    "            space.add(spring)"
   ]
  },
  {
   "cell_type": "code",
   "execution_count": 5,
   "id": "ef4f4024",
   "metadata": {},
   "outputs": [],
   "source": [
    "def add_pin(space):\n",
    "    body = space.bodies[-m]\n",
    "    x,y = body.position\n",
    "    pj = pymunk.PinJoint(space.static_body, body, (x+125, 125+y), (0,0))\n",
    "    space.add(pj)"
   ]
  },
  {
   "cell_type": "code",
   "execution_count": 6,
   "id": "839ce367",
   "metadata": {},
   "outputs": [],
   "source": [
    "def floor(space):\n",
    "    body = pymunk.Body(body_type=pymunk.Body.STATIC)\n",
    "    shape = pymunk.Segment(body,(0,250),(1500,250), 5 )\n",
    "    space.add(shape,body)"
   ]
  },
  {
   "cell_type": "code",
   "execution_count": 7,
   "id": "25c438b3",
   "metadata": {},
   "outputs": [
    {
     "data": {
      "image/png": "[encoded data removed]",
      "text/plain": [
       "<Figure size 432x288 with 1 Axes>"
      ]
     },
     "metadata": {
      "needs_background": "light"
     },
     "output_type": "display_data"
    }
   ],
   "source": [
    "fig = plt.figure()\n",
    "ax = plt.axes(xlim=(0, 1500), ylim=(0, 2000))\n",
    "ax.set_aspect(\"equal\")\n",
    "\n",
    "space = setup_space()\n",
    "cloth(space)\n",
    "add_pin(space)\n",
    "floor(space)\n",
    "o = pymunk.matplotlib_util.DrawOptions(ax)\n",
    "space.debug_draw(o)"
   ]
  },
  {
   "cell_type": "code",
   "execution_count": 13,
   "id": "bae22f79",
   "metadata": {},
   "outputs": [
    {
     "data": {
      "image/png": "[encoded data removed]",
      "text/plain": [
       "<Figure size 432x288 with 1 Axes>"
      ]
     },
     "metadata": {
      "needs_background": "light"
     },
     "output_type": "display_data"
    }
   ],
   "source": [
    "fig = plt.figure()\n",
    "ax = plt.axes(xlim=(0, 1500), ylim=(0, 2000))\n",
    "ax.set_aspect(\"equal\")\n",
    "\n",
    "space = setup_space()\n",
    "cloth(space)\n",
    "add_pin(space)\n",
    "floor(space)\n",
    "o = pymunk.matplotlib_util.DrawOptions(ax)\n",
    "\n",
    "space.shapes[6].body.apply_impulse_at_local_point((-5000,10000))\n",
    "    \n",
    "def init():\n",
    "    space.debug_draw(o)\n",
    "    return []\n",
    "\n",
    "def animate(dt):\n",
    "    for x in range(10):\n",
    "        space.step(1/50/10/4)\n",
    "    ax.clear()\n",
    "    ax.set_xlim(0,1500)\n",
    "    ax.set_ylim(0,2000)\n",
    "    space.debug_draw(o)\n",
    "    return []\n",
    "\n",
    "frames = 400\n",
    "anim = animation.FuncAnimation(fig, animate, init_func=init,\n",
    "                               frames=frames, interval=20, blit=True)\n",
    "anim.save('ClothSim.mp4')"
   ]
  },
  {
   "cell_type": "code",
   "execution_count": 11,
   "id": "9c5fe701",
   "metadata": {},
   "outputs": [],
   "source": []
  },
  {
   "cell_type": "code",
   "execution_count": null,
   "id": "cbff85b6",
   "metadata": {},
   "outputs": [],
   "source": []
  }
 ],
 "metadata": {
  "kernelspec": {
   "display_name": "Python (myenv)",
   "language": "python",
   "name": "myenv"
  },
  "language_info": {
   "codemirror_mode": {
    "name": "ipython",
    "version": 3
   },
   "file_extension": ".py",
   "mimetype": "text/x-python",
   "name": "python",
   "nbconvert_exporter": "python",
   "pygments_lexer": "ipython3",
   "version": "3.9.5"
  }
 },
 "nbformat": 4,
 "nbformat_minor": 5
}
